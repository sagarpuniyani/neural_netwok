{
  "nbformat": 4,
  "nbformat_minor": 0,
  "metadata": {
    "colab": {
      "provenance": [],
      "authorship_tag": "ABX9TyN1s/ROOAzxvgKkQQaS+J5w",
      "include_colab_link": true
    },
    "kernelspec": {
      "name": "python3",
      "display_name": "Python 3"
    },
    "language_info": {
      "name": "python"
    }
  },
  "cells": [
    {
      "cell_type": "markdown",
      "metadata": {
        "id": "view-in-github",
        "colab_type": "text"
      },
      "source": [
        "<a href=\"https://colab.research.google.com/github/sagarpuniyani/neural_netwok/blob/main/Untitled0.ipynb\" target=\"_parent\"><img src=\"https://colab.research.google.com/assets/colab-badge.svg\" alt=\"Open In Colab\"/></a>"
      ]
    },
    {
      "cell_type": "code",
      "execution_count": 1,
      "metadata": {
        "id": "CMnEVB-VoPwN"
      },
      "outputs": [],
      "source": [
        "import tensorflow\n",
        "from tensorflow import keras\n",
        "from tensorflow.keras import Sequential\n",
        "from tensorflow.keras.layers import Dense,Flatten"
      ]
    },
    {
      "cell_type": "code",
      "source": [
        "(X_train,y_train),(X_test,y_test) = keras.datasets.mnist.load_data()"
      ],
      "metadata": {
        "colab": {
          "base_uri": "https://localhost:8080/"
        },
        "id": "u87nIolwoQdq",
        "outputId": "b173b64e-6b87-48f8-8d23-0168c35e5c4f"
      },
      "execution_count": 2,
      "outputs": [
        {
          "output_type": "stream",
          "name": "stdout",
          "text": [
            "Downloading data from https://storage.googleapis.com/tensorflow/tf-keras-datasets/mnist.npz\n",
            "11490434/11490434 [==============================] - 0s 0us/step\n"
          ]
        }
      ]
    },
    {
      "cell_type": "code",
      "source": [
        "X_test.shape"
      ],
      "metadata": {
        "colab": {
          "base_uri": "https://localhost:8080/"
        },
        "id": "39Zv9FOwoT0d",
        "outputId": "d2f3190b-536a-40fd-892f-e1e276d0b89f"
      },
      "execution_count": 3,
      "outputs": [
        {
          "output_type": "execute_result",
          "data": {
            "text/plain": [
              "(10000, 28, 28)"
            ]
          },
          "metadata": {},
          "execution_count": 3
        }
      ]
    },
    {
      "cell_type": "code",
      "source": [
        "y_train"
      ],
      "metadata": {
        "colab": {
          "base_uri": "https://localhost:8080/"
        },
        "id": "4ENjvjXmoViF",
        "outputId": "bd0b7a98-f5ab-4777-efb9-2cf101998df4"
      },
      "execution_count": 4,
      "outputs": [
        {
          "output_type": "execute_result",
          "data": {
            "text/plain": [
              "array([5, 0, 4, ..., 5, 6, 8], dtype=uint8)"
            ]
          },
          "metadata": {},
          "execution_count": 4
        }
      ]
    },
    {
      "cell_type": "code",
      "source": [
        "import matplotlib.pyplot as plt\n",
        "plt.imshow(X_train[2])"
      ],
      "metadata": {
        "colab": {
          "base_uri": "https://localhost:8080/",
          "height": 447
        },
        "id": "W32KmtvMoZxj",
        "outputId": "14ded15d-7da5-4883-99ff-f36b9c78ad4a"
      },
      "execution_count": 5,
      "outputs": [
        {
          "output_type": "execute_result",
          "data": {
            "text/plain": [
              "<matplotlib.image.AxesImage at 0x7f49bd07cf70>"
            ]
          },
          "metadata": {},
          "execution_count": 5
        },
        {
          "output_type": "display_data",
          "data": {
            "text/plain": [
              "<Figure size 640x480 with 1 Axes>"
            ],
            "image/png": "[encoded data removed]"
          },
          "metadata": {}
        }
      ]
    },
    {
      "cell_type": "code",
      "source": [
        "X_train = X_train/255\n",
        "X_test = X_test/255"
      ],
      "metadata": {
        "id": "iBFGnN4aocQH"
      },
      "execution_count": 6,
      "outputs": []
    },
    {
      "cell_type": "code",
      "source": [
        "X_train[0]"
      ],
      "metadata": {
        "colab": {
          "base_uri": "https://localhost:8080/"
        },
        "id": "9GXvGGU3ofU9",
        "outputId": "1cb050d4-f514-4bae-d061-0f33e431036f"
      },
      "execution_count": 7,
      "outputs": [
        {
          "output_type": "execute_result",
          "data": {
            "text/plain": [
              "array([[0.        , 0.        , 0.        , 0.        , 0.        ,\n",
              "        0.        , 0.        , 0.        , 0.        , 0.        ,\n",
              "        0.        , 0.        , 0.        , 0.        , 0.        ,\n",
              "        0.        , 0.        , 0.        , 0.        , 0.        ,\n",
              "        0.        , 0.        , 0.        , 0.        , 0.        ,\n",
              "        0.        , 0.        , 0.        ],\n",
              "       [0.        , 0.        , 0.        , 0.        , 0.        ,\n",
              "        0.        , 0.        , 0.        , 0.        , 0.        ,\n",
              "        0.        , 0.        , 0.        , 0.        , 0.        ,\n",
              "        0.        , 0.        , 0.        , 0.        , 0.        ,\n",
              "        0.        , 0.        , 0.        , 0.        , 0.        ,\n",
              "        0.        , 0.        , 0.        ],\n",
              "       [0.        , 0.        , 0.        , 0.        , 0.        ,\n",
              "        0.        , 0.        , 0.        , 0.        , 0.        ,\n",
              "        0.        , 0.        , 0.        , 0.        , 0.        ,\n",
              "        0.        , 0.        , 0.        , 0.        , 0.        ,\n",
              "        0.        , 0.        , 0.        , 0.        , 0.        ,\n",
              "        0.        , 0.        , 0.        ],\n",
              "       [0.        , 0.        , 0.        , 0.        , 0.        ,\n",
              "        0.        , 0.        , 0.        , 0.        , 0.        ,\n",
              "        0.        , 0.        , 0.        , 0.        , 0.        ,\n",
              "        0.        , 0.        , 0.        , 0.        , 0.        ,\n",
              "        0.        , 0.        , 0.        , 0.        , 0.        ,\n",
              "        0.        , 0.        , 0.        ],\n",
              "       [0.        , 0.        , 0.        , 0.        , 0.        ,\n",
              "        0.        , 0.        , 0.        , 0.        , 0.        ,\n",
              "        0.        , 0.        , 0.        , 0.        , 0.        ,\n",
              "        0.        , 0.        , 0.        , 0.        , 0.        ,\n",
              "        0.        , 0.        , 0.        , 0.        , 0.        ,\n",
              "        0.        , 0.        , 0.        ],\n",
              "       [0.        , 0.        , 0.        , 0.        , 0.        ,\n",
              "        0.        , 0.        , 0.        , 0.        , 0.        ,\n",
              "        0.        , 0.        , 0.01176471, 0.07058824, 0.07058824,\n",
              "        0.07058824, 0.49411765, 0.53333333, 0.68627451, 0.10196078,\n",
              "        0.65098039, 1.        , 0.96862745, 0.49803922, 0.        ,\n",
              "        0.        , 0.        , 0.        ],\n",
              "       [0.        , 0.        , 0.        , 0.        , 0.        ,\n",
              "        0.        , 0.        , 0.        , 0.11764706, 0.14117647,\n",
              "        0.36862745, 0.60392157, 0.66666667, 0.99215686, 0.99215686,\n",
              "        0.99215686, 0.99215686, 0.99215686, 0.88235294, 0.6745098 ,\n",
              "        0.99215686, 0.94901961, 0.76470588, 0.25098039, 0.        ,\n",
              "        0.        , 0.        , 0.        ],\n",
              "       [0.        , 0.        , 0.        , 0.        , 0.        ,\n",
              "        0.        , 0.        , 0.19215686, 0.93333333, 0.99215686,\n",
              "        0.99215686, 0.99215686, 0.99215686, 0.99215686, 0.99215686,\n",
              "        0.99215686, 0.99215686, 0.98431373, 0.36470588, 0.32156863,\n",
              "        0.32156863, 0.21960784, 0.15294118, 0.        , 0.        ,\n",
              "        0.        , 0.        , 0.        ],\n",
              "       [0.        , 0.        , 0.        , 0.        , 0.        ,\n",
              "        0.        , 0.        , 0.07058824, 0.85882353, 0.99215686,\n",
              "        0.99215686, 0.99215686, 0.99215686, 0.99215686, 0.77647059,\n",
              "        0.71372549, 0.96862745, 0.94509804, 0.        , 0.        ,\n",
              "        0.        , 0.        , 0.        , 0.        , 0.        ,\n",
              "        0.        , 0.        , 0.        ],\n",
              "       [0.        , 0.        , 0.        , 0.        , 0.        ,\n",
              "        0.        , 0.        , 0.        , 0.31372549, 0.61176471,\n",
              "        0.41960784, 0.99215686, 0.99215686, 0.80392157, 0.04313725,\n",
              "        0.        , 0.16862745, 0.60392157, 0.        , 0.        ,\n",
              "        0.        , 0.        , 0.        , 0.        , 0.        ,\n",
              "        0.        , 0.        , 0.        ],\n",
              "       [0.        , 0.        , 0.        , 0.        , 0.        ,\n",
              "        0.        , 0.        , 0.        , 0.        , 0.05490196,\n",
              "        0.00392157, 0.60392157, 0.99215686, 0.35294118, 0.        ,\n",
              "        0.        , 0.        , 0.        , 0.        , 0.        ,\n",
              "        0.        , 0.        , 0.        , 0.        , 0.        ,\n",
              "        0.        , 0.        , 0.        ],\n",
              "       [0.        , 0.        , 0.        , 0.        , 0.        ,\n",
              "        0.        , 0.        , 0.        , 0.        , 0.        ,\n",
              "        0.        , 0.54509804, 0.99215686, 0.74509804, 0.00784314,\n",
              "        0.        , 0.        , 0.        , 0.        , 0.        ,\n",
              "        0.        , 0.        , 0.        , 0.        , 0.        ,\n",
              "        0.        , 0.        , 0.        ],\n",
              "       [0.        , 0.        , 0.        , 0.        , 0.        ,\n",
              "        0.        , 0.        , 0.        , 0.        , 0.        ,\n",
              "        0.        , 0.04313725, 0.74509804, 0.99215686, 0.2745098 ,\n",
              "        0.        , 0.        , 0.        , 0.        , 0.        ,\n",
              "        0.        , 0.        , 0.        , 0.        , 0.        ,\n",
              "        0.        , 0.        , 0.        ],\n",
              "       [0.        , 0.        , 0.        , 0.        , 0.        ,\n",
              "        0.        , 0.        , 0.        , 0.        , 0.        ,\n",
              "        0.        , 0.        , 0.1372549 , 0.94509804, 0.88235294,\n",
              "        0.62745098, 0.42352941, 0.00392157, 0.        , 0.        ,\n",
              "        0.        , 0.        , 0.        , 0.        , 0.        ,\n",
              "        0.        , 0.        , 0.        ],\n",
              "       [0.        , 0.        , 0.        , 0.        , 0.        ,\n",
              "        0.        , 0.        , 0.        , 0.        , 0.        ,\n",
              "        0.        , 0.        , 0.        , 0.31764706, 0.94117647,\n",
              "        0.99215686, 0.99215686, 0.46666667, 0.09803922, 0.        ,\n",
              "        0.        , 0.        , 0.        , 0.        , 0.        ,\n",
              "        0.        , 0.        , 0.        ],\n",
              "       [0.        , 0.        , 0.        , 0.        , 0.        ,\n",
              "        0.        , 0.        , 0.        , 0.        , 0.        ,\n",
              "        0.        , 0.        , 0.        , 0.        , 0.17647059,\n",
              "        0.72941176, 0.99215686, 0.99215686, 0.58823529, 0.10588235,\n",
              "        0.        , 0.        , 0.        , 0.        , 0.        ,\n",
              "        0.        , 0.        , 0.        ],\n",
              "       [0.        , 0.        , 0.        , 0.        , 0.        ,\n",
              "        0.        , 0.        , 0.        , 0.        , 0.        ,\n",
              "        0.        , 0.        , 0.        , 0.        , 0.        ,\n",
              "        0.0627451 , 0.36470588, 0.98823529, 0.99215686, 0.73333333,\n",
              "        0.        , 0.        , 0.        , 0.        , 0.        ,\n",
              "        0.        , 0.        , 0.        ],\n",
              "       [0.        , 0.        , 0.        , 0.        , 0.        ,\n",
              "        0.        , 0.        , 0.        , 0.        , 0.        ,\n",
              "        0.        , 0.        , 0.        , 0.        , 0.        ,\n",
              "        0.        , 0.        , 0.97647059, 0.99215686, 0.97647059,\n",
              "        0.25098039, 0.        , 0.        , 0.        , 0.        ,\n",
              "        0.        , 0.        , 0.        ],\n",
              "       [0.        , 0.        , 0.        , 0.        , 0.        ,\n",
              "        0.        , 0.        , 0.        , 0.        , 0.        ,\n",
              "        0.        , 0.        , 0.        , 0.        , 0.18039216,\n",
              "        0.50980392, 0.71764706, 0.99215686, 0.99215686, 0.81176471,\n",
              "        0.00784314, 0.        , 0.        , 0.        , 0.        ,\n",
              "        0.        , 0.        , 0.        ],\n",
              "       [0.        , 0.        , 0.        , 0.        , 0.        ,\n",
              "        0.        , 0.        , 0.        , 0.        , 0.        ,\n",
              "        0.        , 0.        , 0.15294118, 0.58039216, 0.89803922,\n",
              "        0.99215686, 0.99215686, 0.99215686, 0.98039216, 0.71372549,\n",
              "        0.        , 0.        , 0.        , 0.        , 0.        ,\n",
              "        0.        , 0.        , 0.        ],\n",
              "       [0.        , 0.        , 0.        , 0.        , 0.        ,\n",
              "        0.        , 0.        , 0.        , 0.        , 0.        ,\n",
              "        0.09411765, 0.44705882, 0.86666667, 0.99215686, 0.99215686,\n",
              "        0.99215686, 0.99215686, 0.78823529, 0.30588235, 0.        ,\n",
              "        0.        , 0.        , 0.        , 0.        , 0.        ,\n",
              "        0.        , 0.        , 0.        ],\n",
              "       [0.        , 0.        , 0.        , 0.        , 0.        ,\n",
              "        0.        , 0.        , 0.        , 0.09019608, 0.25882353,\n",
              "        0.83529412, 0.99215686, 0.99215686, 0.99215686, 0.99215686,\n",
              "        0.77647059, 0.31764706, 0.00784314, 0.        , 0.        ,\n",
              "        0.        , 0.        , 0.        , 0.        , 0.        ,\n",
              "        0.        , 0.        , 0.        ],\n",
              "       [0.        , 0.        , 0.        , 0.        , 0.        ,\n",
              "        0.        , 0.07058824, 0.67058824, 0.85882353, 0.99215686,\n",
              "        0.99215686, 0.99215686, 0.99215686, 0.76470588, 0.31372549,\n",
              "        0.03529412, 0.        , 0.        , 0.        , 0.        ,\n",
              "        0.        , 0.        , 0.        , 0.        , 0.        ,\n",
              "        0.        , 0.        , 0.        ],\n",
              "       [0.        , 0.        , 0.        , 0.        , 0.21568627,\n",
              "        0.6745098 , 0.88627451, 0.99215686, 0.99215686, 0.99215686,\n",
              "        0.99215686, 0.95686275, 0.52156863, 0.04313725, 0.        ,\n",
              "        0.        , 0.        , 0.        , 0.        , 0.        ,\n",
              "        0.        , 0.        , 0.        , 0.        , 0.        ,\n",
              "        0.        , 0.        , 0.        ],\n",
              "       [0.        , 0.        , 0.        , 0.        , 0.53333333,\n",
              "        0.99215686, 0.99215686, 0.99215686, 0.83137255, 0.52941176,\n",
              "        0.51764706, 0.0627451 , 0.        , 0.        , 0.        ,\n",
              "        0.        , 0.        , 0.        , 0.        , 0.        ,\n",
              "        0.        , 0.        , 0.        , 0.        , 0.        ,\n",
              "        0.        , 0.        , 0.        ],\n",
              "       [0.        , 0.        , 0.        , 0.        , 0.        ,\n",
              "        0.        , 0.        , 0.        , 0.        , 0.        ,\n",
              "        0.        , 0.        , 0.        , 0.        , 0.        ,\n",
              "        0.        , 0.        , 0.        , 0.        , 0.        ,\n",
              "        0.        , 0.        , 0.        , 0.        , 0.        ,\n",
              "        0.        , 0.        , 0.        ],\n",
              "       [0.        , 0.        , 0.        , 0.        , 0.        ,\n",
              "        0.        , 0.        , 0.        , 0.        , 0.        ,\n",
              "        0.        , 0.        , 0.        , 0.        , 0.        ,\n",
              "        0.        , 0.        , 0.        , 0.        , 0.        ,\n",
              "        0.        , 0.        , 0.        , 0.        , 0.        ,\n",
              "        0.        , 0.        , 0.        ],\n",
              "       [0.        , 0.        , 0.        , 0.        , 0.        ,\n",
              "        0.        , 0.        , 0.        , 0.        , 0.        ,\n",
              "        0.        , 0.        , 0.        , 0.        , 0.        ,\n",
              "        0.        , 0.        , 0.        , 0.        , 0.        ,\n",
              "        0.        , 0.        , 0.        , 0.        , 0.        ,\n",
              "        0.        , 0.        , 0.        ]])"
            ]
          },
          "metadata": {},
          "execution_count": 7
        }
      ]
    },
    {
      "cell_type": "code",
      "source": [
        "model = Sequential()\n",
        "\n",
        "model.add(Flatten(input_shape=(28,28)))\n",
        "model.add(Dense(128,activation='relu'))\n",
        "model.add(Dense(32,activation='relu'))\n",
        "model.add(Dense(10,activation='softmax'))"
      ],
      "metadata": {
        "id": "o24o10mlohOQ"
      },
      "execution_count": 8,
      "outputs": []
    },
    {
      "cell_type": "code",
      "source": [
        "model.summary()"
      ],
      "metadata": {
        "colab": {
          "base_uri": "https://localhost:8080/"
        },
        "id": "IyUO6ObOoll_",
        "outputId": "590584b5-921d-4cc5-b5a3-1470753cb659"
      },
      "execution_count": 9,
      "outputs": [
        {
          "output_type": "stream",
          "name": "stdout",
          "text": [
            "Model: \"sequential\"\n",
            "_________________________________________________________________\n",
            " Layer (type)                Output Shape              Param #   \n",
            "=================================================================\n",
            " flatten (Flatten)           (None, 784)               0         \n",
            "                                                                 \n",
            " dense (Dense)               (None, 128)               100480    \n",
            "                                                                 \n",
            " dense_1 (Dense)             (None, 32)                4128      \n",
            "                                                                 \n",
            " dense_2 (Dense)             (None, 10)                330       \n",
            "                                                                 \n",
            "=================================================================\n",
            "Total params: 104,938\n",
            "Trainable params: 104,938\n",
            "Non-trainable params: 0\n",
            "_________________________________________________________________\n"
          ]
        }
      ]
    },
    {
      "cell_type": "code",
      "source": [
        "model.compile(loss='sparse_categorical_crossentropy',optimizer='Adam',metrics=['accuracy'])"
      ],
      "metadata": {
        "id": "mKPd_rpzpHkQ"
      },
      "execution_count": 11,
      "outputs": []
    },
    {
      "cell_type": "code",
      "source": [
        "history = model.fit(X_train,y_train,epochs=25,validation_split=0.2)"
      ],
      "metadata": {
        "colab": {
          "base_uri": "https://localhost:8080/"
        },
        "id": "D6UQ7cdMpI3u",
        "outputId": "d8097702-fad6-4225-b921-3d939a5ffbbb"
      },
      "execution_count": 12,
      "outputs": [
        {
          "output_type": "stream",
          "name": "stdout",
          "text": [
            "Epoch 1/25\n",
            "1500/1500 [==============================] - 8s 5ms/step - loss: 0.2810 - accuracy: 0.9183 - val_loss: 0.1468 - val_accuracy: 0.9577\n",
            "Epoch 2/25\n",
            "1500/1500 [==============================] - 8s 6ms/step - loss: 0.1209 - accuracy: 0.9635 - val_loss: 0.1112 - val_accuracy: 0.9658\n",
            "Epoch 3/25\n",
            "1500/1500 [==============================] - 6s 4ms/step - loss: 0.0833 - accuracy: 0.9742 - val_loss: 0.1037 - val_accuracy: 0.9691\n",
            "Epoch 4/25\n",
            "1500/1500 [==============================] - 8s 5ms/step - loss: 0.0633 - accuracy: 0.9803 - val_loss: 0.0956 - val_accuracy: 0.9719\n",
            "Epoch 5/25\n",
            "1500/1500 [==============================] - 6s 4ms/step - loss: 0.0510 - accuracy: 0.9843 - val_loss: 0.1026 - val_accuracy: 0.9699\n",
            "Epoch 6/25\n",
            "1500/1500 [==============================] - 7s 5ms/step - loss: 0.0392 - accuracy: 0.9880 - val_loss: 0.0934 - val_accuracy: 0.9716\n",
            "Epoch 7/25\n",
            "1500/1500 [==============================] - 6s 4ms/step - loss: 0.0343 - accuracy: 0.9895 - val_loss: 0.0942 - val_accuracy: 0.9745\n",
            "Epoch 8/25\n",
            "1500/1500 [==============================] - 8s 5ms/step - loss: 0.0271 - accuracy: 0.9917 - val_loss: 0.0976 - val_accuracy: 0.9750\n",
            "Epoch 9/25\n",
            "1500/1500 [==============================] - 7s 5ms/step - loss: 0.0243 - accuracy: 0.9923 - val_loss: 0.0971 - val_accuracy: 0.9754\n",
            "Epoch 10/25\n",
            "1500/1500 [==============================] - 9s 6ms/step - loss: 0.0209 - accuracy: 0.9927 - val_loss: 0.1157 - val_accuracy: 0.9722\n",
            "Epoch 11/25\n",
            "1500/1500 [==============================] - 10s 7ms/step - loss: 0.0175 - accuracy: 0.9941 - val_loss: 0.1098 - val_accuracy: 0.9761\n",
            "Epoch 12/25\n",
            "1500/1500 [==============================] - 7s 5ms/step - loss: 0.0169 - accuracy: 0.9943 - val_loss: 0.1203 - val_accuracy: 0.9741\n",
            "Epoch 13/25\n",
            "1500/1500 [==============================] - 7s 5ms/step - loss: 0.0151 - accuracy: 0.9949 - val_loss: 0.1110 - val_accuracy: 0.9772\n",
            "Epoch 14/25\n",
            "1500/1500 [==============================] - 6s 4ms/step - loss: 0.0130 - accuracy: 0.9958 - val_loss: 0.1348 - val_accuracy: 0.9721\n",
            "Epoch 15/25\n",
            "1500/1500 [==============================] - 7s 5ms/step - loss: 0.0119 - accuracy: 0.9954 - val_loss: 0.1326 - val_accuracy: 0.9742\n",
            "Epoch 16/25\n",
            "1500/1500 [==============================] - 6s 4ms/step - loss: 0.0120 - accuracy: 0.9959 - val_loss: 0.1151 - val_accuracy: 0.9772\n",
            "Epoch 17/25\n",
            "1500/1500 [==============================] - 7s 5ms/step - loss: 0.0113 - accuracy: 0.9962 - val_loss: 0.1207 - val_accuracy: 0.9756\n",
            "Epoch 18/25\n",
            "1500/1500 [==============================] - 7s 5ms/step - loss: 0.0103 - accuracy: 0.9968 - val_loss: 0.1384 - val_accuracy: 0.9761\n",
            "Epoch 19/25\n",
            "1500/1500 [==============================] - 7s 4ms/step - loss: 0.0111 - accuracy: 0.9964 - val_loss: 0.1350 - val_accuracy: 0.9757\n",
            "Epoch 20/25\n",
            "1500/1500 [==============================] - 7s 5ms/step - loss: 0.0094 - accuracy: 0.9970 - val_loss: 0.1368 - val_accuracy: 0.9751\n",
            "Epoch 21/25\n",
            "1500/1500 [==============================] - 6s 4ms/step - loss: 0.0099 - accuracy: 0.9970 - val_loss: 0.1425 - val_accuracy: 0.9766\n",
            "Epoch 22/25\n",
            "1500/1500 [==============================] - 7s 5ms/step - loss: 0.0090 - accuracy: 0.9971 - val_loss: 0.1415 - val_accuracy: 0.9762\n",
            "Epoch 23/25\n",
            "1500/1500 [==============================] - 6s 4ms/step - loss: 0.0094 - accuracy: 0.9969 - val_loss: 0.1486 - val_accuracy: 0.9758\n",
            "Epoch 24/25\n",
            "1500/1500 [==============================] - 8s 5ms/step - loss: 0.0078 - accuracy: 0.9978 - val_loss: 0.1346 - val_accuracy: 0.9776\n",
            "Epoch 25/25\n",
            "1500/1500 [==============================] - 7s 5ms/step - loss: 0.0087 - accuracy: 0.9972 - val_loss: 0.1475 - val_accuracy: 0.9765\n"
          ]
        }
      ]
    },
    {
      "cell_type": "code",
      "source": [
        "model.layers[0].get_weights()"
      ],
      "metadata": {
        "colab": {
          "base_uri": "https://localhost:8080/"
        },
        "id": "-Ld9pomQooKG",
        "outputId": "dd1e2ccd-015f-4ea4-950b-961055578140"
      },
      "execution_count": 17,
      "outputs": [
        {
          "output_type": "execute_result",
          "data": {
            "text/plain": [
              "[]"
            ]
          },
          "metadata": {},
          "execution_count": 17
        }
      ]
    },
    {
      "cell_type": "code",
      "source": [
        "model.layers[1].get_weights()"
      ],
      "metadata": {
        "colab": {
          "base_uri": "https://localhost:8080/"
        },
        "id": "QVzr971ppCIa",
        "outputId": "729510ea-2462-458a-a265-e3068d604495"
      },
      "execution_count": 14,
      "outputs": [
        {
          "output_type": "execute_result",
          "data": {
            "text/plain": [
              "[array([[-0.06376901,  0.05859482, -0.02495188, ...,  0.03606651,\n",
              "         -0.03233076, -0.07756232],\n",
              "        [-0.01513137,  0.02054739, -0.01995094, ..., -0.03135473,\n",
              "         -0.00813346, -0.02195191],\n",
              "        [ 0.0485444 , -0.0539974 , -0.04335529, ..., -0.06223044,\n",
              "          0.01151516, -0.04413046],\n",
              "        ...,\n",
              "        [-0.06489462,  0.01624156, -0.04664607, ..., -0.04212091,\n",
              "         -0.02904518,  0.04443497],\n",
              "        [-0.0065937 ,  0.02281941,  0.02369361, ..., -0.06990225,\n",
              "         -0.07126117, -0.0343964 ],\n",
              "        [ 0.01881922, -0.07483541,  0.0333178 , ...,  0.05392661,\n",
              "          0.0601593 ,  0.06122445]], dtype=float32),\n",
              " array([-0.09886223,  0.02052788, -0.08944163,  0.18779844,  0.10107685,\n",
              "        -0.02626453, -0.03886078, -0.18311404,  0.21112937,  0.0673859 ,\n",
              "        -0.12585014, -0.10312337, -0.03700526, -0.05544544,  0.05770793,\n",
              "         0.0175448 ,  0.01977246,  0.13014112, -0.05748744,  0.10307366,\n",
              "        -0.07643593,  0.03529063, -0.08562149,  0.08341707,  0.09754505,\n",
              "         0.14529589, -0.06514592, -0.04773716,  0.18978745,  0.04642054,\n",
              "         0.11269128, -0.05618012, -0.1036049 , -0.17482847, -0.16755533,\n",
              "         0.36083403,  0.11793213, -0.19828713,  0.07780792,  0.13551813,\n",
              "        -0.00468062,  0.053558  , -0.15763603, -0.11691276,  0.03791573,\n",
              "         0.10695282,  0.22821422, -0.01853861, -0.12376841, -0.00953633,\n",
              "        -0.21364217, -0.04073051,  0.04507728,  0.05433962,  0.12992427,\n",
              "         0.24943458,  0.08350395,  0.0813313 ,  0.19004062, -0.20225178,\n",
              "        -0.06353125,  0.06325562,  0.17521578,  0.02945694, -0.00687524,\n",
              "        -0.0857214 ,  0.02693227, -0.260299  ,  0.00715179, -0.08577617,\n",
              "         0.04417926,  0.19005013,  0.1470662 ,  0.11292209, -0.04612247,\n",
              "        -0.01461098, -0.05794537, -0.01671206,  0.05906601, -0.1524752 ,\n",
              "         0.07269628,  0.13425899, -0.06122118,  0.04143658, -0.07003736,\n",
              "         0.01697243, -0.12987866,  0.14485809, -0.07657146,  0.21595438,\n",
              "        -0.22457609,  0.12554148,  0.09784788,  0.09296342,  0.00740822,\n",
              "         0.20226625, -0.23858027,  0.03494335,  0.07143322, -0.17484511,\n",
              "         0.39078125, -0.10361395, -0.04912654, -0.01628411,  0.19625391,\n",
              "        -0.04574792, -0.14618957, -0.1631825 ,  0.00707144,  0.05859246,\n",
              "        -0.03820222, -0.05574561,  0.32911962,  0.07739957,  0.03761605,\n",
              "        -0.07894554, -0.3978401 , -0.0306592 , -0.04828607, -0.13834341,\n",
              "        -0.00335825, -0.21931651,  0.18555945, -0.14720657, -0.00542703,\n",
              "        -0.01765585,  0.09077178, -0.01825527], dtype=float32)]"
            ]
          },
          "metadata": {},
          "execution_count": 14
        }
      ]
    },
    {
      "cell_type": "code",
      "source": [
        "model.layers[2].get_weights()"
      ],
      "metadata": {
        "colab": {
          "base_uri": "https://localhost:8080/"
        },
        "id": "yeqn0soopeaL",
        "outputId": "5c557c4b-f189-4b2e-fcea-9d9733e2782f"
      },
      "execution_count": 15,
      "outputs": [
        {
          "output_type": "execute_result",
          "data": {
            "text/plain": [
              "[array([[-0.02052169, -0.14290568,  0.2906386 , ...,  0.23889793,\n",
              "          0.17313823,  0.24537057],\n",
              "        [-0.3695252 ,  0.01681819,  0.1414217 , ...,  0.13829206,\n",
              "          0.21823388, -0.18490264],\n",
              "        [ 0.21777311, -0.01957104,  0.17032558, ...,  0.09450437,\n",
              "         -0.3588627 , -0.31161326],\n",
              "        ...,\n",
              "        [-0.02880345, -0.01863239,  0.22263661, ...,  0.11641702,\n",
              "          0.15691431,  0.23253338],\n",
              "        [-0.2174341 , -0.03094983, -0.02882724, ..., -0.37175852,\n",
              "          0.05768549,  0.4555082 ],\n",
              "        [-0.15704548, -0.1156263 ,  0.06153525, ..., -0.08556572,\n",
              "          0.10782436, -0.08902318]], dtype=float32),\n",
              " array([-1.10563129e-01,  2.02791542e-01,  2.46491879e-01, -1.30581856e-02,\n",
              "        -1.83403417e-02,  2.24158424e-03,  2.17871130e-01, -2.46569842e-01,\n",
              "         2.27231815e-01,  1.49661854e-01, -3.27182859e-01, -6.82251751e-02,\n",
              "         1.64111301e-01, -5.19477326e-05,  3.03212434e-01,  3.31124514e-02,\n",
              "         1.21294856e-01,  1.85658202e-01,  1.07210308e-01,  1.47289857e-01,\n",
              "        -2.68883687e-02,  1.23806678e-01, -8.25437084e-02,  2.01541215e-01,\n",
              "        -5.64884357e-02,  1.63268149e-01,  2.36679688e-01,  2.40760669e-01,\n",
              "        -1.65726751e-01,  3.61893296e-01,  5.75803444e-02, -2.95412540e-01],\n",
              "       dtype=float32)]"
            ]
          },
          "metadata": {},
          "execution_count": 15
        }
      ]
    },
    {
      "cell_type": "code",
      "source": [
        "model.layers[3].get_weights()"
      ],
      "metadata": {
        "colab": {
          "base_uri": "https://localhost:8080/"
        },
        "id": "KwIUgbCHp-_a",
        "outputId": "821540b1-3446-41c6-e281-ad95276cb897"
      },
      "execution_count": 18,
      "outputs": [
        {
          "output_type": "execute_result",
          "data": {
            "text/plain": [
              "[array([[ 1.41181409e-01,  4.01680142e-01, -6.60726607e-01,\n",
              "         -5.84955156e-01, -6.71536505e-01,  6.47716284e-01,\n",
              "          6.47613645e-01, -3.30861509e-01, -1.65583670e-01,\n",
              "          2.22581372e-01],\n",
              "        [-1.98860332e-01,  2.21868321e-01,  8.39651302e-02,\n",
              "         -4.91607696e-01, -1.27447352e-01,  2.40154237e-01,\n",
              "          2.81637877e-01, -6.67950045e-03,  4.17689055e-01,\n",
              "         -5.20454228e-01],\n",
              "        [-2.06397861e-01, -2.40034610e-01, -3.21809441e-01,\n",
              "          3.88027161e-01, -3.84775311e-01, -2.26921245e-01,\n",
              "          6.94714636e-02, -4.19257551e-01,  3.96591336e-01,\n",
              "          3.01746696e-01],\n",
              "        [-6.31088018e-01, -7.21442461e-01, -1.52726486e-01,\n",
              "         -2.07337812e-01,  4.91119772e-01,  3.51703644e-01,\n",
              "         -1.68335065e-01, -1.48309723e-01, -7.23760009e-01,\n",
              "         -1.08240597e-01],\n",
              "        [ 4.47672158e-01,  3.28360021e-01, -4.93578166e-01,\n",
              "         -1.47539124e-01,  5.26979446e-01, -3.48928154e-01,\n",
              "          2.88503051e-01, -4.88091439e-01, -7.95232594e-01,\n",
              "          6.40141889e-02],\n",
              "        [-5.44441462e-01,  4.80070055e-01, -4.12671328e-01,\n",
              "          4.87324148e-02,  3.40374678e-01,  2.64525086e-01,\n",
              "         -2.77865250e-02,  2.95648258e-02, -2.38832086e-01,\n",
              "          5.17394841e-01],\n",
              "        [ 4.51858073e-01,  5.05646944e-01, -5.04315138e-01,\n",
              "         -2.49368832e-01,  1.36569872e-01, -2.10367545e-01,\n",
              "         -2.60560036e-01, -5.76001465e-01,  5.24775624e-01,\n",
              "         -3.69706959e-01],\n",
              "        [-6.12327516e-01,  2.97346324e-01,  4.39373106e-01,\n",
              "          1.24202855e-01, -6.54701471e-01, -6.65889204e-01,\n",
              "         -7.78432310e-01,  4.07324463e-01, -4.68333900e-01,\n",
              "         -9.84703004e-02],\n",
              "        [-2.63629884e-01, -5.70167184e-01,  3.36668491e-01,\n",
              "         -5.07065356e-01,  3.36120456e-01, -3.05634171e-01,\n",
              "         -2.16354445e-01,  4.17744696e-01, -7.72447288e-02,\n",
              "          3.63668427e-02],\n",
              "        [ 2.29729980e-01, -5.33419609e-01,  2.12232649e-01,\n",
              "          3.42066944e-01, -2.81384140e-01,  3.93064111e-01,\n",
              "          1.07582226e-01, -1.62575424e-01,  9.23106521e-02,\n",
              "         -4.71018463e-01],\n",
              "        [ 1.12557001e-01,  6.29352152e-01, -1.79793730e-01,\n",
              "         -4.32993412e-01, -6.23267710e-01, -8.13344121e-02,\n",
              "          1.00974455e-01,  4.67773378e-01, -5.22371292e-01,\n",
              "         -4.62981075e-01],\n",
              "        [-6.84908092e-01, -6.65869594e-01, -4.38608408e-01,\n",
              "          1.14077285e-01, -5.79395235e-01,  6.88508689e-01,\n",
              "         -9.51030925e-02, -4.90098417e-01, -1.69514030e-01,\n",
              "         -4.47083302e-02],\n",
              "        [-1.06096518e+00,  6.99006114e-03, -2.38304153e-01,\n",
              "          1.89838380e-01, -1.48637652e-01, -1.20677881e-01,\n",
              "         -8.43351960e-01, -2.33421400e-01,  1.10828325e-01,\n",
              "          1.75607577e-01],\n",
              "        [ 5.79463005e-01,  2.23956898e-01,  3.58019948e-01,\n",
              "         -3.05391729e-01, -2.50973403e-01, -4.22344536e-01,\n",
              "         -2.03210473e-01, -6.66654110e-01, -7.14663267e-01,\n",
              "          2.21205190e-01],\n",
              "        [ 4.62076068e-02, -5.82356274e-01, -2.84004301e-01,\n",
              "         -2.24405393e-01, -5.44159234e-01,  2.89232224e-01,\n",
              "         -2.28829067e-02, -8.65162790e-01, -3.20681930e-02,\n",
              "         -4.52243119e-01],\n",
              "        [ 4.11854118e-01, -1.00243464e-01,  1.04725892e-02,\n",
              "         -8.39776516e-01, -4.34919208e-01,  1.46464512e-01,\n",
              "         -5.71141839e-01,  3.98700178e-01, -5.85796125e-02,\n",
              "         -3.76542866e-01],\n",
              "        [-8.54358301e-02, -2.62880683e-01,  3.72437865e-01,\n",
              "         -6.88905239e-01, -3.09084684e-01, -4.40316111e-01,\n",
              "          2.36111820e-01, -4.75226879e-01, -1.01038225e-01,\n",
              "         -4.13924128e-01],\n",
              "        [ 1.02289096e-01, -3.76729906e-01, -2.10060820e-01,\n",
              "         -5.03429115e-01,  4.30359811e-01,  6.15872592e-02,\n",
              "          1.83175251e-01,  2.72830635e-01,  4.26746935e-01,\n",
              "         -5.94319522e-01],\n",
              "        [-6.42102301e-01,  9.08982009e-02,  4.83894795e-01,\n",
              "         -2.96258122e-01, -3.15345302e-02,  1.47598565e-01,\n",
              "         -8.06563675e-01, -5.31231165e-01, -2.99215823e-01,\n",
              "          1.81745708e-01],\n",
              "        [-2.64957339e-01,  3.19502056e-01,  5.85893631e-01,\n",
              "         -1.04312979e-01,  6.52821422e-01,  9.23963040e-02,\n",
              "         -6.04313374e-01, -2.20349252e-01,  2.93699056e-01,\n",
              "         -4.62958395e-01],\n",
              "        [-1.87277719e-01, -1.66651750e+00, -3.66513819e-01,\n",
              "         -9.05326366e-01,  2.91569710e-01, -4.95467246e-01,\n",
              "         -6.08997047e-01,  5.40035844e-01, -2.25557992e-03,\n",
              "         -1.44569665e-01],\n",
              "        [-5.84023416e-01,  1.34175763e-01, -4.59523797e-01,\n",
              "         -3.73097181e-01,  2.61704326e-01, -5.13898611e-01,\n",
              "         -9.09857392e-01,  3.60204548e-01, -1.73861794e-02,\n",
              "          1.87068254e-01],\n",
              "        [-1.54032568e-02, -6.15679324e-01, -4.15114582e-01,\n",
              "         -2.11034313e-01,  1.54537991e-01, -4.64177400e-01,\n",
              "          2.64545139e-02, -1.47518724e-01,  2.20184475e-01,\n",
              "         -4.26035315e-01],\n",
              "        [ 4.69361156e-01, -1.48083210e-01,  8.89236573e-04,\n",
              "          2.96878129e-01, -3.30404103e-01, -6.17300630e-01,\n",
              "         -5.70019186e-01, -2.01956868e-01,  2.14737400e-01,\n",
              "          2.49558985e-01],\n",
              "        [ 2.88523704e-01, -4.85953510e-01, -1.60099685e-01,\n",
              "         -3.73998284e-02, -3.68653387e-01, -7.36738145e-01,\n",
              "          4.76143658e-01,  1.86812907e-01, -1.06766708e-01,\n",
              "          3.64326574e-02],\n",
              "        [-2.37688303e-01,  1.26966134e-01,  5.78174770e-01,\n",
              "         -2.25809067e-01, -4.55071896e-01, -6.63298249e-01,\n",
              "         -1.65260851e-01,  1.59285143e-01,  1.67175248e-01,\n",
              "         -8.28598857e-01],\n",
              "        [-5.35371721e-01, -1.06074011e+00, -3.42033923e-01,\n",
              "         -2.35040322e-01,  3.29953849e-01,  2.86595017e-01,\n",
              "         -3.80277187e-01, -5.25341749e-01,  3.81185800e-01,\n",
              "          5.89094520e-01],\n",
              "        [ 1.20046467e-01, -5.22275746e-01, -1.42684624e-01,\n",
              "         -2.49017164e-01, -6.76320016e-01,  9.76249203e-02,\n",
              "         -3.57267857e-01, -4.44204360e-02,  8.99388045e-02,\n",
              "          2.17299044e-01],\n",
              "        [-3.71376693e-01,  4.12273079e-01,  2.36369178e-01,\n",
              "          2.67002136e-01, -2.27882072e-01,  3.36298287e-01,\n",
              "          4.69648600e-01,  2.20493302e-01,  2.00890765e-01,\n",
              "         -6.92644060e-01],\n",
              "        [ 4.30430502e-01, -6.30238354e-02, -5.10540843e-01,\n",
              "         -5.13237417e-01,  2.18772113e-01, -2.53802210e-01,\n",
              "          5.75798571e-01, -3.70738178e-01,  3.00889343e-01,\n",
              "          2.42045045e-01],\n",
              "        [-9.13893804e-02, -5.17771661e-01,  2.33912230e-01,\n",
              "          4.13715899e-01,  1.83693036e-01, -2.19834700e-01,\n",
              "          3.38647008e-01, -3.71733516e-01, -2.01054931e-01,\n",
              "         -6.93181098e-01],\n",
              "        [-6.01818323e-01, -8.81800486e-04, -2.21918389e-01,\n",
              "          5.77966630e-01, -2.78703511e-01,  2.01519147e-01,\n",
              "         -9.81307685e-01,  4.01132762e-01, -4.40649420e-01,\n",
              "         -6.42711669e-02]], dtype=float32),\n",
              " array([-0.07489146, -0.31843993,  0.03792942, -0.09213806, -0.02425844,\n",
              "        -0.06968547, -0.06065951, -0.15242764,  0.42522174,  0.14603807],\n",
              "       dtype=float32)]"
            ]
          },
          "metadata": {},
          "execution_count": 18
        }
      ]
    },
    {
      "cell_type": "code",
      "source": [
        "y_prob = model.predict(X_test)"
      ],
      "metadata": {
        "colab": {
          "base_uri": "https://localhost:8080/"
        },
        "id": "wKV6oIAZqMLB",
        "outputId": "ffd36ee3-6df1-472b-eb03-00ac7226f6b7"
      },
      "execution_count": 19,
      "outputs": [
        {
          "output_type": "stream",
          "name": "stdout",
          "text": [
            "313/313 [==============================] - 1s 3ms/step\n"
          ]
        }
      ]
    },
    {
      "cell_type": "code",
      "source": [
        "y_pred = y_prob.argmax(axis=1)"
      ],
      "metadata": {
        "id": "vDgAeOK5qYTX"
      },
      "execution_count": 20,
      "outputs": []
    },
    {
      "cell_type": "code",
      "source": [
        "from sklearn.metrics import accuracy_score\n",
        "accuracy_score(y_test,y_pred)"
      ],
      "metadata": {
        "colab": {
          "base_uri": "https://localhost:8080/"
        },
        "id": "WjupoSqjqaS4",
        "outputId": "46500385-b99b-4a5d-f582-177a142e4ad4"
      },
      "execution_count": 21,
      "outputs": [
        {
          "output_type": "execute_result",
          "data": {
            "text/plain": [
              "0.9764"
            ]
          },
          "metadata": {},
          "execution_count": 21
        }
      ]
    },
    {
      "cell_type": "code",
      "source": [
        "plt.plot(history.history['loss'])\n",
        "plt.plot(history.history['val_loss'])"
      ],
      "metadata": {
        "colab": {
          "base_uri": "https://localhost:8080/",
          "height": 447
        },
        "id": "TZqI6yoZqdBW",
        "outputId": "bb1f4b25-be84-48d0-f78a-49136fdf9dd1"
      },
      "execution_count": 22,
      "outputs": [
        {
          "output_type": "execute_result",
          "data": {
            "text/plain": [
              "[<matplotlib.lines.Line2D at 0x7f498b6e1630>]"
            ]
          },
          "metadata": {},
          "execution_count": 22
        },
        {
          "output_type": "display_data",
          "data": {
            "text/plain": [
              "<Figure size 640x480 with 1 Axes>"
            ],
            "image/png": "[encoded data removed]"
          },
          "metadata": {}
        }
      ]
    },
    {
      "cell_type": "code",
      "source": [
        "plt.plot(history.history['accuracy'])\n",
        "plt.plot(history.history['val_accuracy'])"
      ],
      "metadata": {
        "colab": {
          "base_uri": "https://localhost:8080/",
          "height": 447
        },
        "id": "_VAwH86Gqf5x",
        "outputId": "927a80be-6655-42d5-d008-488e68f6a7cc"
      },
      "execution_count": 23,
      "outputs": [
        {
          "output_type": "execute_result",
          "data": {
            "text/plain": [
              "[<matplotlib.lines.Line2D at 0x7f498b20b130>]"
            ]
          },
          "metadata": {},
          "execution_count": 23
        },
        {
          "output_type": "display_data",
          "data": {
            "text/plain": [
              "<Figure size 640x480 with 1 Axes>"
            ],
            "image/png": "[encoded data removed]"
          },
          "metadata": {}
        }
      ]
    },
    {
      "cell_type": "code",
      "source": [
        "plt.imshow(X_test[1])"
      ],
      "metadata": {
        "colab": {
          "base_uri": "https://localhost:8080/",
          "height": 447
        },
        "id": "gUyJjFTyqiq0",
        "outputId": "9d61803b-777b-444c-b67d-7d22c5ecc10d"
      },
      "execution_count": 24,
      "outputs": [
        {
          "output_type": "execute_result",
          "data": {
            "text/plain": [
              "<matplotlib.image.AxesImage at 0x7f498b27d180>"
            ]
          },
          "metadata": {},
          "execution_count": 24
        },
        {
          "output_type": "display_data",
          "data": {
            "text/plain": [
              "<Figure size 640x480 with 1 Axes>"
            ],
            "image/png": "[encoded data removed]"
          },
          "metadata": {}
        }
      ]
    },
    {
      "cell_type": "code",
      "source": [
        "model.predict(X_test[1].reshape(1,28,28)).argmax(axis=1)"
      ],
      "metadata": {
        "colab": {
          "base_uri": "https://localhost:8080/"
        },
        "id": "SQ5dKWtvqpU9",
        "outputId": "a441e9b9-2878-481b-e839-78303b062853"
      },
      "execution_count": 25,
      "outputs": [
        {
          "output_type": "stream",
          "name": "stdout",
          "text": [
            "1/1 [==============================] - 0s 66ms/step\n"
          ]
        },
        {
          "output_type": "execute_result",
          "data": {
            "text/plain": [
              "array([2])"
            ]
          },
          "metadata": {},
          "execution_count": 25
        }
      ]
    },
    {
      "cell_type": "code",
      "source": [],
      "metadata": {
        "id": "5osHr7wmqrGq"
      },
      "execution_count": null,
      "outputs": []
    }
  ]
}
